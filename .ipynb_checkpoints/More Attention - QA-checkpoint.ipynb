{
 "cells": [
  {
   "cell_type": "markdown",
   "metadata": {},
   "source": [
    "TODO:\n",
    "- Refactor classes \n",
    "- Test properly "
   ]
  },
  {
   "cell_type": "markdown",
   "metadata": {},
   "source": [
    "Match-LSTM Layer\n",
    "\n",
    "- $W^q (l \\times l)$\n",
    "- $H^q (l \\times Q)$\n",
    "- $W^qH^q (l \\times Q)$\n",
    "\n",
    "- $h_{i-1}^r (l \\times 1)$\n",
    "- $W^rh_{i-1}^r (l \\times 1)$\n",
    "\n",
    "(Similarly for $W^ph_i^p$)"
   ]
  },
  {
   "cell_type": "code",
   "execution_count": 1,
   "metadata": {
    "collapsed": false
   },
   "outputs": [],
   "source": [
    "import os"
   ]
  },
  {
   "cell_type": "code",
   "execution_count": 2,
   "metadata": {
    "collapsed": false
   },
   "outputs": [],
   "source": [
    "import qa_answer"
   ]
  },
  {
   "cell_type": "code",
   "execution_count": 3,
   "metadata": {
    "collapsed": true
   },
   "outputs": [],
   "source": [
    "path = '../data/squad'"
   ]
  },
  {
   "cell_type": "code",
   "execution_count": 4,
   "metadata": {
    "collapsed": false
   },
   "outputs": [],
   "source": [
    "vocab, rev_vocab = qa_answer.initialize_vocab(os.path.join(path,'vocab.dat'))"
   ]
  },
  {
   "cell_type": "code",
   "execution_count": 5,
   "metadata": {
    "collapsed": true
   },
   "outputs": [],
   "source": [
    "def read_data(filename):\n",
    "    with open(os.path.join(path, filename)) as f:\n",
    "        data = f.readlines()\n",
    "    \n",
    "    return [list(map(int,row.split())) for row in data]"
   ]
  },
  {
   "cell_type": "code",
   "execution_count": 6,
   "metadata": {
    "collapsed": false
   },
   "outputs": [],
   "source": [
    "query_data, context_data, spans = [read_data(name) for name in ['train.ids.question', \n",
    "                                                                'train.ids.context',\n",
    "                                                                'train.span']]"
   ]
  },
  {
   "cell_type": "code",
   "execution_count": 7,
   "metadata": {
    "collapsed": false
   },
   "outputs": [
    {
     "data": {
      "text/plain": [
       "(81398, 81398, 81398)"
      ]
     },
     "execution_count": 7,
     "metadata": {},
     "output_type": "execute_result"
    }
   ],
   "source": [
    "len(query_data), len(context_data), len(spans)"
   ]
  },
  {
   "cell_type": "code",
   "execution_count": 8,
   "metadata": {
    "collapsed": true
   },
   "outputs": [],
   "source": [
    "import numpy as np\n",
    "import matplotlib.pyplot as plt"
   ]
  },
  {
   "cell_type": "code",
   "execution_count": 9,
   "metadata": {
    "collapsed": true
   },
   "outputs": [],
   "source": [
    "%matplotlib inline"
   ]
  },
  {
   "cell_type": "code",
   "execution_count": 10,
   "metadata": {
    "collapsed": false
   },
   "outputs": [
    {
     "data": {
      "text/plain": [
       "<matplotlib.text.Text at 0x12bbca650>"
      ]
     },
     "execution_count": 10,
     "metadata": {},
     "output_type": "execute_result"
    },
    {
     "data": {
      "image/png": "[encoded data removed]",
      "text/plain": [
       "<matplotlib.figure.Figure at 0x11d80fc10>"
      ]
     },
     "metadata": {},
     "output_type": "display_data"
    }
   ],
   "source": [
    "plt.hist(list(map(len, query_data)), ec='k',bins=50)\n",
    "plt.title('Question lengths')"
   ]
  },
  {
   "cell_type": "code",
   "execution_count": 11,
   "metadata": {
    "collapsed": false
   },
   "outputs": [
    {
     "data": {
      "text/plain": [
       "<matplotlib.text.Text at 0x13176ead0>"
      ]
     },
     "execution_count": 11,
     "metadata": {},
     "output_type": "execute_result"
    },
    {
     "data": {
      "image/png": "[encoded data removed]",
      "text/plain": [
       "<matplotlib.figure.Figure at 0x11ce60750>"
      ]
     },
     "metadata": {},
     "output_type": "display_data"
    }
   ],
   "source": [
    "plt.hist(list(map(len, context_data)), ec='k',bins=50)\n",
    "plt.title('Context lengths')"
   ]
  },
  {
   "cell_type": "code",
   "execution_count": 12,
   "metadata": {
    "collapsed": false
   },
   "outputs": [
    {
     "data": {
      "text/plain": [
       "<matplotlib.text.Text at 0x1322840d0>"
      ]
     },
     "execution_count": 12,
     "metadata": {},
     "output_type": "execute_result"
    },
    {
     "data": {
      "image/png": "[encoded data removed]",
      "text/plain": [
       "<matplotlib.figure.Figure at 0x131582410>"
      ]
     },
     "metadata": {},
     "output_type": "display_data"
    }
   ],
   "source": [
    "plt.hist(list(map(lambda span: span[1]-span[0], spans)), ec='k',bins=25)\n",
    "plt.title('Answer span lengths')"
   ]
  },
  {
   "cell_type": "markdown",
   "metadata": {},
   "source": [
    "Incomplete and rough implementation of the model described in the Match-LSTM paper."
   ]
  },
  {
   "cell_type": "code",
   "execution_count": 13,
   "metadata": {
    "collapsed": true
   },
   "outputs": [],
   "source": [
    "import tensorflow as tf"
   ]
  },
  {
   "cell_type": "code",
   "execution_count": 14,
   "metadata": {
    "collapsed": false
   },
   "outputs": [],
   "source": [
    "def make_var(name, shape, dtype):\n",
    "    return tf.get_variable(name=name, shape=shape, dtype=dtype)"
   ]
  },
  {
   "cell_type": "code",
   "execution_count": 15,
   "metadata": {
    "collapsed": false
   },
   "outputs": [],
   "source": [
    "with open(os.path.join(path,'glove.trimmed.100.npz')) as f:\n",
    "    glove = np.load(f)['glove']"
   ]
  },
  {
   "cell_type": "code",
   "execution_count": 16,
   "metadata": {
    "collapsed": false
   },
   "outputs": [
    {
     "data": {
      "text/plain": [
       "dtype('float32')"
      ]
     },
     "execution_count": 16,
     "metadata": {},
     "output_type": "execute_result"
    }
   ],
   "source": [
    "glove = np.float32(glove)\n",
    "glove.dtype"
   ]
  },
  {
   "cell_type": "code",
   "execution_count": 226,
   "metadata": {
    "collapsed": false
   },
   "outputs": [],
   "source": [
    "query_lengths = list(map(len,query_data))\n",
    "context_lengths = list(map(len,context_data))"
   ]
  },
  {
   "cell_type": "code",
   "execution_count": 227,
   "metadata": {
    "collapsed": true
   },
   "outputs": [],
   "source": [
    "lstm_units = 300"
   ]
  },
  {
   "cell_type": "code",
   "execution_count": 635,
   "metadata": {
    "collapsed": true
   },
   "outputs": [],
   "source": [
    "def run_lstm(ids, lengths, num_units, init_stat_fw = None, init_stat_bw = None):\n",
    "    embeds = tf.nn.embedding_lookup(glove, ids)\n",
    "    cell_fw = tf.nn.rnn_cell.LSTMCell(num_units = num_units)\n",
    "    cell_bw = tf.nn.rnn_cell.LSTMCell(num_units = num_units)\n",
    "    out, state = tf.nn.bidirectional_dynamic_rnn(cell_fw, cell_bw, \n",
    "                                                inputs=embeds, \n",
    "                                                sequence_length=lengths,\n",
    "                                                initial_state_fw = init_stat_fw,\n",
    "                                                initial_state_bw = init_stat_bw,\n",
    "                                                dtype = tf.float32)\n",
    "    return out, state"
   ]
  },
  {
   "cell_type": "markdown",
   "metadata": {
    "collapsed": true
   },
   "source": [
    "Use the final states of the question LSTM as the initial states of the context LSTM"
   ]
  },
  {
   "cell_type": "code",
   "execution_count": 636,
   "metadata": {
    "collapsed": true
   },
   "outputs": [],
   "source": [
    "def tile_batch(weight,num,rank):\n",
    "    for r in range(rank-len(weight.shape)):\n",
    "        weight = tf.expand_dims(weight,axis=0)\n",
    "    return tf.tile(weight, [num]+[1]*(len(weight.shape)-1))"
   ]
  },
  {
   "cell_type": "code",
   "execution_count": 637,
   "metadata": {
    "collapsed": true
   },
   "outputs": [],
   "source": [
    "def shape(tensor):\n",
    "    return tensor.get_shape().as_list()"
   ]
  },
  {
   "cell_type": "code",
   "execution_count": 804,
   "metadata": {
    "collapsed": true
   },
   "outputs": [],
   "source": [
    "tf.reset_default_graph()"
   ]
  },
  {
   "cell_type": "code",
   "execution_count": 805,
   "metadata": {
    "collapsed": false
   },
   "outputs": [],
   "source": [
    "with tf.variable_scope('placeholders'):\n",
    "    qids = tf.placeholder(name = 'q_ids', shape=[128,None], dtype = tf.int32)\n",
    "    cids = tf.placeholder(name = 'c_ids', shape=[128,None], dtype = tf.int32)\n",
    "    qlen = tf.placeholder(name = 'q_len', shape=[128], dtype = tf.int32)\n",
    "    clen = tf.placeholder(name = 'c_len', shape=[128], dtype = tf.int32)\n",
    "    \n",
    "with tf.variable_scope('q_reps'):\n",
    "    question_embeds, last_states = run_lstm(qids, qlen, lstm_units)\n",
    "    question_reps = tf.concat(question_embeds, 2)\n",
    "    \n",
    "with tf.variable_scope('c_reps'):\n",
    "    fw_stat, bw_stat = last_states\n",
    "    context_embeds, _ = run_lstm(cids, clen, lstm_units, fw_stat, bw_stat)\n",
    "    context_reps = tf.concat(context_embeds, 2)\n",
    "    "
   ]
  },
  {
   "cell_type": "code",
   "execution_count": 806,
   "metadata": {
    "collapsed": false
   },
   "outputs": [],
   "source": [
    "class MatchLSTM(object):\n",
    "    def __init__(self, H_p, H_q, P, Q):\n",
    "        wnames = ['W_'+i for i in 'pqr']\n",
    "        self.weights = {}\n",
    "        self.biases = {'b_p':make_var('b_p', shape=[2*lstm_units], dtype=tf.float32)}\n",
    "        self.biases['b'] = make_var('b',shape=[1], dtype=tf.float32)\n",
    "        self.embeds = dict(zip(['H_'+i for i in 'pq'], [H_p, H_q]))\n",
    "            \n",
    "        self.weights['w'] = make_var('w', shape=[2*lstm_units], dtype=tf.float32)\n",
    "        \n",
    "        for wname in wnames:\n",
    "            self.weights[wname] = make_var(wname, shape=[2*lstm_units,2*lstm_units], dtype=tf.float32)\n",
    "        \n",
    "        self.reused_term = tf.matmul(H_q, tile_batch(self.weights['W_q'],128,3))\n",
    "        self.P = P\n",
    "        self.Q = Q\n",
    "        self.cell_fw = tf.nn.rnn_cell.LSTMCell(2*lstm_units)\n",
    "        self.cell_bw = tf.nn.rnn_cell.LSTMCell(2*lstm_units)\n",
    "            \n",
    "    def calculate_attention(self,h_r,i):\n",
    "        temporal_term = tf.matmul(self.embeds['H_p'][:,i:i+1], tile_batch(self.weights['W_p'],128,3),name='h_pW_p') +\\\n",
    "            tf.matmul(h_r, tile_batch(self.weights['W_r'],128,3), name ='h_rW_r') +\\\n",
    "            tile_batch(self.biases['b_p'],128,3)\n",
    "        temporal_term_tiled = tf.tile(\n",
    "            temporal_term, [1,self.Q,1],\n",
    "            )\n",
    "        G = tf.tanh(self.reused_term + temporal_term_tiled)\n",
    "        w_expanded = tf.expand_dims(self.weights['w'],axis=1)\n",
    "        G_times_w = tf.matmul(G, tile_batch(w_expanded,128,3),name='Gw') \n",
    "        alpha = tf.nn.softmax(G_times_w+ tf.tile(tile_batch(self.biases['b'],128,3), [1,self.Q,1]))               \n",
    "        return alpha\n",
    "\n",
    "    def make_rnn_inputs(self, h_r, i):\n",
    "        alpha = self.calculate_attention(h_r,i)\n",
    "        z = tf.concat([self.embeds['H_p'][:,i:i+1],tf.matmul(alpha, self.embeds['H_q'], transpose_a=True)],2)\n",
    "        return z\n",
    "    \n",
    "    def run_cell(self, i,state=None,bw=False):\n",
    "        cell = self.cell_bw if bw else self.cell_fw\n",
    "        state = cell.zero_state(128,dtype=tf.float32) if state is None else state\n",
    "        index = self.P - 1 - i if bw else i \n",
    "        inputs = self.make_rnn_inputs(tf.expand_dims(state.h,axis=1), index)\n",
    "        _, state = cell(tf.squeeze(inputs, axis=1),state)\n",
    "        return state\n",
    "\n",
    "    def run(self):\n",
    "        H_fw = []\n",
    "        H_bw = []\n",
    "        for i in range(self.P):\n",
    "            state_fw = run_cell(i, state_fw if i else None)\n",
    "            state_bw = run_cell(i, state_bw if i else None,True)\n",
    "            H_fw.append(state_fw.h)\n",
    "            H_bw.append(state_bw.h)\n",
    "        H_fw = tf.concat(H_fw, 1)\n",
    "        H_bw = tf.concat(H_bw, 1)\n",
    "        self.H_r = tf.concat( [H_fw, H_bw], 2)"
   ]
  },
  {
   "cell_type": "code",
   "execution_count": 808,
   "metadata": {
    "collapsed": false
   },
   "outputs": [],
   "source": [
    "class AnswerPointer(object):\n",
    "    def __init__(self, H_r, P):\n",
    "        self.weights = self._make_vars(['V','W_a','v'],[[2*lstm_units]*2]*2+[2*lstm_units])\n",
    "        self.biases = self._make_vars(['b_a','c'],[[2*lstm_units],[1]])\n",
    "        self.H_tilde_r = tf.concat( [H_r,tf.zeros_like(H_r[:,0:1,:])],1) \n",
    "        self.H_r = H_r\n",
    "        self.reused_term = tf.matmul(self.H_tilde_r, tile_batch(self.weights['V'],128,3))\n",
    "        self.P = P\n",
    "        with tf.variable_scope('ap'):\n",
    "            self.cell = tf.nn.rnn_cell.LSTMCell(2*lstm_units)\n",
    "    \n",
    "    def _make_vars(self, names, shapes, dtype=tf.float32):\n",
    "        return dict(zip(names,[make_var(name, shape, dtype) for name,shape in zip(names,shapes)]))\n",
    "    \n",
    "    def calculate_attention(self,h_a,i):\n",
    "        temporal_term = tf.matmul(h_a, tile_batch(self.weights['W_a'],128,3), name ='h_aW_a') +\\\n",
    "            tile_batch(self.biases['b_a'],128,3)\n",
    "        temporal_term_tiled = tf.tile(\n",
    "            temporal_term, [1,self.P+1,1],\n",
    "            )\n",
    "        F = tf.tanh(self.reused_term + temporal_term_tiled)\n",
    "        v_expanded = tf.expand_dims(self.weights['v'],axis=1)\n",
    "        F_times_v = tf.matmul(F, tile_batch(v_expanded,128,3),name='Fv') \n",
    "        beta = tf.nn.softmax(F_times_v+ tf.tile(tile_batch(self.biases['c'],128,3), [1,self.P + 1,1]))               \n",
    "        return beta\n",
    "\n",
    "    def make_rnn_inputs(self, h_a, i):\n",
    "        beta = self.calculate_attention(h_a,i)\n",
    "        z = tf.matmul(beta, self.H_tilde_r, transpose_a=True)\n",
    "        return z, beta\n",
    "    \n",
    "    def run_cell(self, i,state=None):\n",
    "        cell = self.cell\n",
    "        state = cell.zero_state(128,dtype=tf.float32) if state is None else state\n",
    "        inputs, beta = self.make_rnn_inputs(tf.expand_dims(state.h,axis=1), i)\n",
    "        with tf.variable_scope('ap'):\n",
    "            _, state = cell(tf.squeeze(inputs, axis=1),state)\n",
    "        return state, beta\n",
    "        \n",
    "    def _make_mask(self,beta):\n",
    "        return 1-tf.cast(tf.equal(tf.argmax(beta,axis=2), self.P),tf.float32)\n",
    "    \n",
    "    def _make_index(self,positions):\n",
    "        colm1 = tf.range(0,128)\n",
    "        colm2 = tf.zeros_like(colm1)\n",
    "        colm3 = positions\n",
    "        return tf.transpose(tf.stack([colm1,colm2,colm3]))\n",
    "    \n",
    "    def run_step(self,k,state=None):\n",
    "        state, beta = self.run_cell(k, state)\n",
    "        probs = tf.gather_nd(beta, self._make_index(self.answers[k]))\n",
    "        return state,tf.log(probs)\n",
    "\n",
    "    def run(self):\n",
    "        self.all_probs = []\n",
    "        for k in range(self.max_answer_length):\n",
    "            state,logprobs = self.run_step(k,state if k else None)\n",
    "            #mask = self.mask if train else _make_mask i.e. infer it has stopped\n",
    "            self.all_probs.append(logprobs*self.mask)\n",
    "        \n",
    "        self.loss = -tf.reduce_sum(probs,axis=0)\n",
    "        "
   ]
  }
 ],
 "metadata": {
  "kernelspec": {
   "display_name": "Python 2",
   "language": "python",
   "name": "python2"
  },
  "language_info": {
   "codemirror_mode": {
    "name": "ipython",
    "version": 2
   },
   "file_extension": ".py",
   "mimetype": "text/x-python",
   "name": "python",
   "nbconvert_exporter": "python",
   "pygments_lexer": "ipython2",
   "version": "2.7.13"
  }
 },
 "nbformat": 4,
 "nbformat_minor": 0
}
